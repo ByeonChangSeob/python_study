{
 "cells": [
  {
   "cell_type": "code",
   "execution_count": 3,
   "id": "7de511ec",
   "metadata": {},
   "outputs": [
    {
     "name": "stdout",
     "output_type": "stream",
     "text": [
      "6\n",
      "2\n",
      "8\n",
      "3.0\n",
      "4\n",
      "2\n"
     ]
    }
   ],
   "source": [
    "x=int(input())\n",
    "y=int(input())\n",
    "a=max(x,y)\n",
    "b=min(x,y)\n",
    "print(x+y)\n",
    "print(a-b)\n",
    "print(x*y)\n",
    "print((x+y)/2)\n",
    "print(max(x,y))\n",
    "print(min(x,y))"
   ]
  }
 ],
 "metadata": {
  "kernelspec": {
   "display_name": "jupyternote1",
   "language": "python",
   "name": "python3"
  },
  "language_info": {
   "codemirror_mode": {
    "name": "ipython",
    "version": 3
   },
   "file_extension": ".py",
   "mimetype": "text/x-python",
   "name": "python",
   "nbconvert_exporter": "python",
   "pygments_lexer": "ipython3",
   "version": "3.12.7"
  }
 },
 "nbformat": 4,
 "nbformat_minor": 5
}
